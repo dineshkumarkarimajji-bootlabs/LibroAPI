{
 "cells": [
  {
   "cell_type": "code",
   "execution_count": 17,
   "id": "668d2af9",
   "metadata": {},
   "outputs": [],
   "source": [
    "from sqlalchemy import create_engine"
   ]
  },
  {
   "cell_type": "code",
   "execution_count": 37,
   "id": "41a79ec4",
   "metadata": {},
   "outputs": [],
   "source": [
    "sqlite_engine='sqlite:///memory.db'\n",
    "engine=create_engine(sqlite_engine)"
   ]
  },
  {
   "cell_type": "code",
   "execution_count": 38,
   "id": "8bda1830",
   "metadata": {},
   "outputs": [],
   "source": [
    "from sqlalchemy import text"
   ]
  },
  {
   "cell_type": "code",
   "execution_count": 45,
   "id": "12eaae5a",
   "metadata": {},
   "outputs": [],
   "source": [
    "with engine.connect() as connection:\n",
    "    connection.begin()\n",
    "    data=connection.execute(text('select * from Loan;'))\n",
    "    data_=data.fetchall()"
   ]
  },
  {
   "cell_type": "code",
   "execution_count": 44,
   "id": "7acfedde",
   "metadata": {},
   "outputs": [
    {
     "name": "stdout",
     "output_type": "stream",
     "text": [
      "[(1, 1, 1, '2025-10-07 09:30:41.931005', '2025-10-21 09:30:41.931011', None, 'returned', 0), (2, 2, 2, '2025-10-07 09:48:14.362565', '2025-10-21 09:48:14.362569', None, 'Returned', 0), (3, 1, 1, '2025-10-07 09:51:16.227305', '2025-10-21 09:51:16.227309', None, 'returned', 0), (4, 1, 1, '2025-10-07 09:52:48.234411', '2025-10-21 09:52:48.234415', None, 'returned', 0), (5, 1, 1, '2025-10-07 09:54:07.846815', '2025-10-21 09:54:07.846821', None, 'returned', 0), (6, 1, 1, '2025-10-07 09:54:43.925069', '2025-10-21 09:54:43.925074', None, 'borrowed', 0), (7, 1, 1, '2025-10-07 09:54:43.926278', '2025-10-21 09:54:43.926280', None, 'returned', 0), (8, 1, 1, '2025-10-07 10:17:15.988300', '2025-10-21 10:17:15.988307', None, 'borrowed', 0)]\n"
     ]
    }
   ],
   "source": [
    "print(data_)"
   ]
  },
  {
   "cell_type": "code",
   "execution_count": 24,
   "id": "e192624a",
   "metadata": {},
   "outputs": [],
   "source": [
    "def sum():\n",
    "    a=[i for i in range(1,100)]\n",
    "    for i in a:\n",
    "        return i"
   ]
  },
  {
   "cell_type": "code",
   "execution_count": 25,
   "id": "cfb2d82d",
   "metadata": {},
   "outputs": [
    {
     "name": "stdout",
     "output_type": "stream",
     "text": [
      "1\n"
     ]
    }
   ],
   "source": [
    "a=sum()\n",
    "print(a)"
   ]
  },
  {
   "cell_type": "code",
   "execution_count": 45,
   "id": "89679d26",
   "metadata": {},
   "outputs": [],
   "source": [
    "from contextlib import contextmanager\n",
    "\n",
    "@contextmanager\n",
    "def mock_json_file():\n",
    "    try:\n",
    "        json_file = open('mock.json', 'a')\n",
    "        yield json_file\n",
    "    finally:\n",
    "        json_file.close()\n",
    "\n"
   ]
  },
  {
   "cell_type": "code",
   "execution_count": 48,
   "id": "19d1679e",
   "metadata": {},
   "outputs": [],
   "source": [
    "with mock_json_file() as f:\n",
    "    \n",
    "    f.write('{\"key\": \"value\"}')"
   ]
  },
  {
   "cell_type": "code",
   "execution_count": 36,
   "id": "1456d09c",
   "metadata": {},
   "outputs": [
    {
     "ename": "AttributeError",
     "evalue": "'generator' object has no attribute 'write'",
     "output_type": "error",
     "traceback": [
      "\u001b[31m---------------------------------------------------------------------------\u001b[39m",
      "\u001b[31mAttributeError\u001b[39m                            Traceback (most recent call last)",
      "\u001b[36mCell\u001b[39m\u001b[36m \u001b[39m\u001b[32mIn[36]\u001b[39m\u001b[32m, line 1\u001b[39m\n\u001b[32m----> \u001b[39m\u001b[32m1\u001b[39m \u001b[43mmock_json_file\u001b[49m\u001b[43m(\u001b[49m\u001b[43m)\u001b[49m\u001b[43m.\u001b[49m\u001b[43mwrite\u001b[49m(\u001b[33m'\u001b[39m\u001b[33m{\u001b[39m\u001b[33m\"\u001b[39m\u001b[33mkey\u001b[39m\u001b[33m\"\u001b[39m\u001b[33m: \u001b[39m\u001b[33m\"\u001b[39m\u001b[33mvalue\u001b[39m\u001b[33m\"\u001b[39m\u001b[33m}\u001b[39m\u001b[33m'\u001b[39m)\n",
      "\u001b[31mAttributeError\u001b[39m: 'generator' object has no attribute 'write'"
     ]
    }
   ],
   "source": [
    "mock_json_file().write('{\"key\": \"value\"}')"
   ]
  },
  {
   "cell_type": "code",
   "execution_count": 31,
   "id": "f26033c0",
   "metadata": {},
   "outputs": [],
   "source": [
    "\n",
    "import json\n",
    "data={\n",
    "    \"name\":'srinivas'\n",
    "}\n",
    "with open('mock.json','w')as json_file:\n",
    "    data=json.dump(data,json_file)"
   ]
  },
  {
   "cell_type": "code",
   "execution_count": 30,
   "id": "d66d94ab",
   "metadata": {},
   "outputs": [],
   "source": [
    "data = {\"name\": \"Alice\", \"age\": 30, \"is_student\": False}\n",
    "json_string = json.dumps(data)"
   ]
  },
  {
   "cell_type": "code",
   "execution_count": null,
   "id": "09514475",
   "metadata": {},
   "outputs": [],
   "source": [
    "json"
   ]
  }
 ],
 "metadata": {
  "kernelspec": {
   "display_name": ".myenv",
   "language": "python",
   "name": "python3"
  },
  "language_info": {
   "codemirror_mode": {
    "name": "ipython",
    "version": 3
   },
   "file_extension": ".py",
   "mimetype": "text/x-python",
   "name": "python",
   "nbconvert_exporter": "python",
   "pygments_lexer": "ipython3",
   "version": "3.13.7"
  }
 },
 "nbformat": 4,
 "nbformat_minor": 5
}
