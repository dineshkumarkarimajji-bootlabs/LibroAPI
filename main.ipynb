{
 "cells": [
  {
   "cell_type": "code",
   "execution_count": 17,
   "id": "668d2af9",
   "metadata": {},
   "outputs": [],
   "source": [
    "from sqlalchemy import create_engine"
   ]
  },
  {
   "cell_type": "code",
   "execution_count": 37,
   "id": "41a79ec4",
   "metadata": {},
   "outputs": [],
   "source": [
    "sqlite_engine='sqlite:///memory.db'\n",
    "engine=create_engine(sqlite_engine)"
   ]
  },
  {
   "cell_type": "code",
   "execution_count": 38,
   "id": "8bda1830",
   "metadata": {},
   "outputs": [],
   "source": [
    "from sqlalchemy import text"
   ]
  },
  {
   "cell_type": "code",
   "execution_count": 45,
   "id": "12eaae5a",
   "metadata": {},
   "outputs": [],
   "source": [
    "with engine.connect() as connection:\n",
    "    connection.begin()\n",
    "    data=connection.execute(text('select * from Loan;'))\n",
    "    data_=data.fetchall()"
   ]
  },
  {
   "cell_type": "code",
   "execution_count": 44,
   "id": "7acfedde",
   "metadata": {},
   "outputs": [
    {
     "name": "stdout",
     "output_type": "stream",
     "text": [
      "[(1, 1, 1, '2025-10-07 09:30:41.931005', '2025-10-21 09:30:41.931011', None, 'returned', 0), (2, 2, 2, '2025-10-07 09:48:14.362565', '2025-10-21 09:48:14.362569', None, 'Returned', 0), (3, 1, 1, '2025-10-07 09:51:16.227305', '2025-10-21 09:51:16.227309', None, 'returned', 0), (4, 1, 1, '2025-10-07 09:52:48.234411', '2025-10-21 09:52:48.234415', None, 'returned', 0), (5, 1, 1, '2025-10-07 09:54:07.846815', '2025-10-21 09:54:07.846821', None, 'returned', 0), (6, 1, 1, '2025-10-07 09:54:43.925069', '2025-10-21 09:54:43.925074', None, 'borrowed', 0), (7, 1, 1, '2025-10-07 09:54:43.926278', '2025-10-21 09:54:43.926280', None, 'returned', 0), (8, 1, 1, '2025-10-07 10:17:15.988300', '2025-10-21 10:17:15.988307', None, 'borrowed', 0)]\n"
     ]
    }
   ],
   "source": [
    "print(data_)"
   ]
  },
  {
   "cell_type": "code",
   "execution_count": 24,
   "id": "e192624a",
   "metadata": {},
   "outputs": [],
   "source": [
    "def sum():\n",
    "    a=[i for i in range(1,100)]\n",
    "    for i in a:\n",
    "        return i"
   ]
  },
  {
   "cell_type": "code",
   "execution_count": 25,
   "id": "cfb2d82d",
   "metadata": {},
   "outputs": [
    {
     "name": "stdout",
     "output_type": "stream",
     "text": [
      "1\n"
     ]
    }
   ],
   "source": [
    "a=sum()\n",
    "print(a)"
   ]
  }
 ],
 "metadata": {
  "kernelspec": {
   "display_name": ".myenv",
   "language": "python",
   "name": "python3"
  },
  "language_info": {
   "codemirror_mode": {
    "name": "ipython",
    "version": 3
   },
   "file_extension": ".py",
   "mimetype": "text/x-python",
   "name": "python",
   "nbconvert_exporter": "python",
   "pygments_lexer": "ipython3",
   "version": "3.13.7"
  }
 },
 "nbformat": 4,
 "nbformat_minor": 5
}
