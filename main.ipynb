{
 "cells": [
  {
   "cell_type": "code",
   "execution_count": 17,
   "id": "668d2af9",
   "metadata": {},
   "outputs": [],
   "source": [
    "from sqlalchemy import create_engine"
   ]
  },
  {
   "cell_type": "code",
   "execution_count": 37,
   "id": "41a79ec4",
   "metadata": {},
   "outputs": [],
   "source": [
    "sqlite_engine='sqlite:///memory.db'\n",
    "engine=create_engine(sqlite_engine)"
   ]
  },
  {
   "cell_type": "code",
   "execution_count": 38,
   "id": "8bda1830",
   "metadata": {},
   "outputs": [],
   "source": [
    "from sqlalchemy import text"
   ]
  },
  {
   "cell_type": "code",
   "execution_count": 45,
   "id": "12eaae5a",
   "metadata": {},
   "outputs": [],
   "source": [
    "with engine.connect() as connection:\n",
    "    connection.begin()\n",
    "    data=connection.execute(text('select * from Loan;'))\n",
    "    data_=data.fetchall()"
   ]
  },
  {
   "cell_type": "code",
   "execution_count": 44,
   "id": "7acfedde",
   "metadata": {},
   "outputs": [
    {
     "name": "stdout",
     "output_type": "stream",
     "text": [
      "[(1, 1, 1, '2025-10-07 09:30:41.931005', '2025-10-21 09:30:41.931011', None, 'returned', 0), (2, 2, 2, '2025-10-07 09:48:14.362565', '2025-10-21 09:48:14.362569', None, 'Returned', 0), (3, 1, 1, '2025-10-07 09:51:16.227305', '2025-10-21 09:51:16.227309', None, 'returned', 0), (4, 1, 1, '2025-10-07 09:52:48.234411', '2025-10-21 09:52:48.234415', None, 'returned', 0), (5, 1, 1, '2025-10-07 09:54:07.846815', '2025-10-21 09:54:07.846821', None, 'returned', 0), (6, 1, 1, '2025-10-07 09:54:43.925069', '2025-10-21 09:54:43.925074', None, 'borrowed', 0), (7, 1, 1, '2025-10-07 09:54:43.926278', '2025-10-21 09:54:43.926280', None, 'returned', 0), (8, 1, 1, '2025-10-07 10:17:15.988300', '2025-10-21 10:17:15.988307', None, 'borrowed', 0)]\n"
     ]
    }
   ],
   "source": [
    "print(data_)"
   ]
  },
  {
   "cell_type": "code",
   "execution_count": 14,
   "id": "e192624a",
   "metadata": {},
   "outputs": [],
   "source": [
    "def sum():\n",
    "    a=[i for i in range(1,100)]\n",
    "    for i in a:\n",
    "        return i"
   ]
  },
  {
   "cell_type": "code",
   "execution_count": 16,
   "id": "4cf42d32",
   "metadata": {},
   "outputs": [
    {
     "data": {
      "text/plain": [
       "1"
      ]
     },
     "execution_count": 16,
     "metadata": {},
     "output_type": "execute_result"
    }
   ],
   "source": [
    "a"
   ]
  },
  {
   "cell_type": "code",
   "execution_count": 15,
   "id": "cfb2d82d",
   "metadata": {},
   "outputs": [],
   "source": [
    "a=sum()"
   ]
  },
  {
   "cell_type": "code",
   "execution_count": 13,
   "id": "13e76820",
   "metadata": {},
   "outputs": [
    {
     "name": "stdout",
     "output_type": "stream",
     "text": [
      "1\n",
      "2\n",
      "3\n",
      "4\n",
      "5\n",
      "6\n",
      "7\n",
      "8\n",
      "9\n",
      "10\n",
      "11\n",
      "12\n",
      "13\n",
      "14\n",
      "15\n",
      "16\n",
      "17\n",
      "18\n",
      "19\n",
      "20\n",
      "21\n",
      "22\n",
      "23\n",
      "24\n",
      "25\n",
      "26\n",
      "27\n",
      "28\n",
      "29\n",
      "30\n",
      "31\n",
      "32\n",
      "33\n",
      "34\n",
      "35\n",
      "36\n",
      "37\n",
      "38\n",
      "39\n",
      "40\n",
      "41\n",
      "42\n",
      "43\n",
      "44\n",
      "45\n",
      "46\n",
      "47\n",
      "48\n",
      "49\n",
      "50\n",
      "51\n",
      "52\n",
      "53\n",
      "54\n",
      "55\n",
      "56\n",
      "57\n",
      "58\n",
      "59\n",
      "60\n",
      "61\n",
      "62\n",
      "63\n",
      "64\n",
      "65\n",
      "66\n",
      "67\n",
      "68\n",
      "69\n",
      "70\n",
      "71\n",
      "72\n",
      "73\n",
      "74\n",
      "75\n",
      "76\n",
      "77\n",
      "78\n",
      "79\n",
      "80\n",
      "81\n",
      "82\n",
      "83\n",
      "84\n",
      "85\n",
      "86\n",
      "87\n",
      "88\n",
      "89\n",
      "90\n",
      "91\n",
      "92\n",
      "93\n",
      "94\n",
      "95\n",
      "96\n",
      "97\n",
      "98\n",
      "99\n"
     ]
    }
   ],
   "source": [
    "for i in a:\n",
    "    print(i)"
   ]
  }
 ],
 "metadata": {
  "kernelspec": {
   "display_name": ".myenv",
   "language": "python",
   "name": "python3"
  },
  "language_info": {
   "codemirror_mode": {
    "name": "ipython",
    "version": 3
   },
   "file_extension": ".py",
   "mimetype": "text/x-python",
   "name": "python",
   "nbconvert_exporter": "python",
   "pygments_lexer": "ipython3",
   "version": "3.13.7"
  }
 },
 "nbformat": 4,
 "nbformat_minor": 5
}
