{
 "cells": [
  {
   "cell_type": "code",
   "execution_count": 17,
   "id": "668d2af9",
   "metadata": {},
   "outputs": [],
   "source": [
    "from sqlalchemy import create_engine"
   ]
  },
  {
   "cell_type": "code",
   "execution_count": 37,
   "id": "41a79ec4",
   "metadata": {},
   "outputs": [],
   "source": [
    "sqlite_engine='sqlite:///memory.db'\n",
    "engine=create_engine(sqlite_engine)"
   ]
  },
  {
   "cell_type": "code",
   "execution_count": 38,
   "id": "8bda1830",
   "metadata": {},
   "outputs": [],
   "source": [
    "from sqlalchemy import text"
   ]
  },
  {
   "cell_type": "code",
   "execution_count": 45,
   "id": "12eaae5a",
   "metadata": {},
   "outputs": [],
   "source": [
    "with engine.connect() as connection:\n",
    "    connection.begin()\n",
    "    data=connection.execute(text('select * from Loan;'))\n",
    "    data_=data.fetchall()"
   ]
  },
  {
   "cell_type": "code",
   "execution_count": 44,
   "id": "7acfedde",
   "metadata": {},
   "outputs": [
    {
     "name": "stdout",
     "output_type": "stream",
     "text": [
      "[(1, 1, 1, '2025-10-07 09:30:41.931005', '2025-10-21 09:30:41.931011', None, 'returned', 0), (2, 2, 2, '2025-10-07 09:48:14.362565', '2025-10-21 09:48:14.362569', None, 'Returned', 0), (3, 1, 1, '2025-10-07 09:51:16.227305', '2025-10-21 09:51:16.227309', None, 'returned', 0), (4, 1, 1, '2025-10-07 09:52:48.234411', '2025-10-21 09:52:48.234415', None, 'returned', 0), (5, 1, 1, '2025-10-07 09:54:07.846815', '2025-10-21 09:54:07.846821', None, 'returned', 0), (6, 1, 1, '2025-10-07 09:54:43.925069', '2025-10-21 09:54:43.925074', None, 'borrowed', 0), (7, 1, 1, '2025-10-07 09:54:43.926278', '2025-10-21 09:54:43.926280', None, 'returned', 0), (8, 1, 1, '2025-10-07 10:17:15.988300', '2025-10-21 10:17:15.988307', None, 'borrowed', 0)]\n"
     ]
    }
   ],
   "source": [
    "print(data_)"
   ]
  },
  {
   "cell_type": "code",
   "execution_count": 24,
   "id": "e192624a",
   "metadata": {},
   "outputs": [],
   "source": [
    "def sum():\n",
    "    a=[i for i in range(1,100)]\n",
    "    for i in a:\n",
    "        return i"
   ]
  },
  {
   "cell_type": "code",
   "execution_count": 25,
   "id": "cfb2d82d",
   "metadata": {},
   "outputs": [
    {
     "name": "stdout",
     "output_type": "stream",
     "text": [
      "1\n"
     ]
    }
   ],
   "source": [
    "a=sum()\n",
    "print(a)"
   ]
  },
  {
   "cell_type": "code",
   "execution_count": 45,
   "id": "89679d26",
   "metadata": {},
   "outputs": [],
   "source": [
    "from contextlib import contextmanager\n",
    "\n",
    "@contextmanager\n",
    "def mock_json_file():\n",
    "    try:\n",
    "        json_file = open('mock.json', 'a')\n",
    "        yield json_file\n",
    "    finally:\n",
    "        json_file.close()\n",
    "\n"
   ]
  },
  {
   "cell_type": "code",
   "execution_count": 3,
   "id": "05844d69",
   "metadata": {},
   "outputs": [],
   "source": [
    "# monk.py\n",
    "class A:\n",
    "    def func(self):\n",
    "        print(\"func() is being called\")"
   ]
  },
  {
   "cell_type": "code",
   "execution_count": 1,
   "id": "970acd7f",
   "metadata": {},
   "outputs": [
    {
     "name": "stdout",
     "output_type": "stream",
     "text": [
      "Collecting monk\n",
      "  Downloading monk-0.13.2.tar.gz (15 kB)\n",
      "  Installing build dependencies ... \u001b[?25ldone\n",
      "\u001b[?25h  Getting requirements to build wheel ... \u001b[?25ldone\n",
      "\u001b[?25h  Preparing metadata (pyproject.toml) ... \u001b[?25ldone\n",
      "\u001b[?25hBuilding wheels for collected packages: monk\n",
      "  Building wheel for monk (pyproject.toml) ... \u001b[?25ldone\n",
      "\u001b[?25h  Created wheel for monk: filename=monk-0.13.2-py3-none-any.whl size=21392 sha256=8a36cdac1f1501adc2911d492d1cae54509ec88cefe7af5e588e55fac8c3522e\n",
      "  Stored in directory: /Users/karimajjidineshkumar/Library/Caches/pip/wheels/1f/d1/f9/27982beec7151f937d049ef4a8544ddcdb02d34e8ec9ea8b70\n",
      "Successfully built monk\n",
      "Installing collected packages: monk\n",
      "Successfully installed monk-0.13.2\n"
     ]
    }
   ],
   "source": [
    "!pip install monk"
   ]
  },
  {
   "cell_type": "code",
   "execution_count": 5,
   "id": "d3652946",
   "metadata": {},
   "outputs": [
    {
     "name": "stdout",
     "output_type": "stream",
     "text": [
      "Hello from monkey patch!\n",
      "Hello from B!\n"
     ]
    }
   ],
   "source": [
    "class B:\n",
    "    def greet(self):\n",
    "        print(\"Hello from B!\")\n",
    "\n",
    "# Create instances\n",
    "b1 = B()\n",
    "b2 = B()\n",
    "\n",
    "# Define new method\n",
    "def new_greet(self):\n",
    "    print(\"Hello from monkey patch!\")\n",
    "\n",
    "# Patch only b1\n",
    "b1.greet = new_greet.__get__(b1)  # Bind method to instance\n",
    "b1.greet() \n",
    "b2.greet()"
   ]
  },
  {
   "cell_type": "code",
   "execution_count": 11,
   "id": "7148c472",
   "metadata": {},
   "outputs": [],
   "source": [
    "def get_json_db():\n",
    "    json_=open('mock_db.json','w')\n",
    "    try:\n",
    "        yield json_\n",
    "    finally:\n",
    "        json_.close()    "
   ]
  },
  {
   "cell_type": "code",
   "execution_count": 12,
   "id": "d624a39f",
   "metadata": {},
   "outputs": [],
   "source": [
    "json_db=get_json_db()"
   ]
  },
  {
   "cell_type": "code",
   "execution_count": null,
   "id": "4f721819",
   "metadata": {},
   "outputs": [],
   "source": []
  },
  {
   "cell_type": "code",
   "execution_count": 31,
   "id": "fa9ace0a",
   "metadata": {},
   "outputs": [],
   "source": [
    "import json\n",
    "class mock_json_db:\n",
    "    def  __init__(self):\n",
    "        self.file=open('mock_db.json','w')\n",
    "\n",
    "    def add(self,data:dict):\n",
    "        self.data=data\n",
    "        \n",
    "    def commit(self):\n",
    "        json.dump(self.data,self.file)\n",
    "        self.file.close()\n",
    "\n",
    "\n",
    "\n",
    "            \n",
    "\n"
   ]
  },
  {
   "cell_type": "code",
   "execution_count": null,
   "id": "7d88acdb",
   "metadata": {},
   "outputs": [],
   "source": [
    "engine='sqllite:///:memory:'"
   ]
  },
  {
   "cell_type": "code",
   "execution_count": 32,
   "id": "47a41888",
   "metadata": {},
   "outputs": [],
   "source": [
    "db=mock_json_db()"
   ]
  },
  {
   "cell_type": "code",
   "execution_count": null,
   "id": "9b150b06",
   "metadata": {},
   "outputs": [],
   "source": [
    "db=MockJSONDB"
   ]
  },
  {
   "cell_type": "code",
   "execution_count": 33,
   "id": "6e7761dc",
   "metadata": {},
   "outputs": [],
   "source": [
    "db.add({'srinivas': 26})"
   ]
  },
  {
   "cell_type": "code",
   "execution_count": 35,
   "id": "f89f8bf3",
   "metadata": {},
   "outputs": [
    {
     "ename": "ValueError",
     "evalue": "I/O operation on closed file.",
     "output_type": "error",
     "traceback": [
      "\u001b[31m---------------------------------------------------------------------------\u001b[39m",
      "\u001b[31mValueError\u001b[39m                                Traceback (most recent call last)",
      "\u001b[36mCell\u001b[39m\u001b[36m \u001b[39m\u001b[32mIn[35]\u001b[39m\u001b[32m, line 1\u001b[39m\n\u001b[32m----> \u001b[39m\u001b[32m1\u001b[39m \u001b[43mdb\u001b[49m\u001b[43m.\u001b[49m\u001b[43mcommit\u001b[49m\u001b[43m(\u001b[49m\u001b[43m)\u001b[49m\n",
      "\u001b[36mCell\u001b[39m\u001b[36m \u001b[39m\u001b[32mIn[31]\u001b[39m\u001b[32m, line 10\u001b[39m, in \u001b[36mmock_json_db.commit\u001b[39m\u001b[34m(self)\u001b[39m\n\u001b[32m      9\u001b[39m \u001b[38;5;28;01mdef\u001b[39;00m\u001b[38;5;250m \u001b[39m\u001b[34mcommit\u001b[39m(\u001b[38;5;28mself\u001b[39m):\n\u001b[32m---> \u001b[39m\u001b[32m10\u001b[39m     \u001b[43mjson\u001b[49m\u001b[43m.\u001b[49m\u001b[43mdump\u001b[49m\u001b[43m(\u001b[49m\u001b[38;5;28;43mself\u001b[39;49m\u001b[43m.\u001b[49m\u001b[43mdata\u001b[49m\u001b[43m,\u001b[49m\u001b[38;5;28;43mself\u001b[39;49m\u001b[43m.\u001b[49m\u001b[43mfile\u001b[49m\u001b[43m)\u001b[49m\n\u001b[32m     11\u001b[39m     \u001b[38;5;28mself\u001b[39m.file.close()\n",
      "\u001b[36mFile \u001b[39m\u001b[32m/Library/Frameworks/Python.framework/Versions/3.13/lib/python3.13/json/__init__.py:180\u001b[39m, in \u001b[36mdump\u001b[39m\u001b[34m(obj, fp, skipkeys, ensure_ascii, check_circular, allow_nan, cls, indent, separators, default, sort_keys, **kw)\u001b[39m\n\u001b[32m    177\u001b[39m \u001b[38;5;66;03m# could accelerate with writelines in some versions of Python, at\u001b[39;00m\n\u001b[32m    178\u001b[39m \u001b[38;5;66;03m# a debuggability cost\u001b[39;00m\n\u001b[32m    179\u001b[39m \u001b[38;5;28;01mfor\u001b[39;00m chunk \u001b[38;5;129;01min\u001b[39;00m iterable:\n\u001b[32m--> \u001b[39m\u001b[32m180\u001b[39m     \u001b[43mfp\u001b[49m\u001b[43m.\u001b[49m\u001b[43mwrite\u001b[49m\u001b[43m(\u001b[49m\u001b[43mchunk\u001b[49m\u001b[43m)\u001b[49m\n",
      "\u001b[31mValueError\u001b[39m: I/O operation on closed file."
     ]
    }
   ],
   "source": [
    "db.commit()"
   ]
  },
  {
   "cell_type": "code",
   "execution_count": null,
   "id": "52c13ab7",
   "metadata": {},
   "outputs": [],
   "source": [
    "from main import app\n",
    "from config import get_db\n",
    "app.dependency_overrides[get_db]=get_json_db"
   ]
  },
  {
   "cell_type": "code",
   "execution_count": 13,
   "id": "b463a99d",
   "metadata": {},
   "outputs": [],
   "source": [
    "import json\n",
    "data={'srinivas':25}\n",
    "for i in json_db:\n",
    "    json.dump(data,i)\n",
    "\n",
    "try:\n",
    "    next(json_db)\n",
    "except:\n",
    "    pass    "
   ]
  },
  {
   "cell_type": "code",
   "execution_count": 48,
   "id": "19d1679e",
   "metadata": {},
   "outputs": [],
   "source": [
    "with mock_json_file() as f:\n",
    "    \n",
    "    f.write('{\"key\": \"value\"}')"
   ]
  },
  {
   "cell_type": "code",
   "execution_count": 36,
   "id": "1456d09c",
   "metadata": {},
   "outputs": [
    {
     "ename": "AttributeError",
     "evalue": "'generator' object has no attribute 'write'",
     "output_type": "error",
     "traceback": [
      "\u001b[31m---------------------------------------------------------------------------\u001b[39m",
      "\u001b[31mAttributeError\u001b[39m                            Traceback (most recent call last)",
      "\u001b[36mCell\u001b[39m\u001b[36m \u001b[39m\u001b[32mIn[36]\u001b[39m\u001b[32m, line 1\u001b[39m\n\u001b[32m----> \u001b[39m\u001b[32m1\u001b[39m \u001b[43mmock_json_file\u001b[49m\u001b[43m(\u001b[49m\u001b[43m)\u001b[49m\u001b[43m.\u001b[49m\u001b[43mwrite\u001b[49m(\u001b[33m'\u001b[39m\u001b[33m{\u001b[39m\u001b[33m\"\u001b[39m\u001b[33mkey\u001b[39m\u001b[33m\"\u001b[39m\u001b[33m: \u001b[39m\u001b[33m\"\u001b[39m\u001b[33mvalue\u001b[39m\u001b[33m\"\u001b[39m\u001b[33m}\u001b[39m\u001b[33m'\u001b[39m)\n",
      "\u001b[31mAttributeError\u001b[39m: 'generator' object has no attribute 'write'"
     ]
    }
   ],
   "source": [
    "mock_json_file().write('{\"key\": \"value\"}')"
   ]
  },
  {
   "cell_type": "code",
   "execution_count": 31,
   "id": "f26033c0",
   "metadata": {},
   "outputs": [],
   "source": [
    "\n",
    "import json\n",
    "data={\n",
    "    \"name\":'srinivas'\n",
    "}\n",
    "with open('mock.json','w')as json_file:\n",
    "    data=json.dump(data,json_file)"
   ]
  },
  {
   "cell_type": "code",
   "execution_count": 30,
   "id": "d66d94ab",
   "metadata": {},
   "outputs": [],
   "source": [
    "data = {\"name\": \"Alice\", \"age\": 30, \"is_student\": False}\n",
    "json_string = json.dumps(data)"
   ]
  },
  {
   "cell_type": "code",
   "execution_count": null,
   "id": "09514475",
   "metadata": {},
   "outputs": [],
   "source": [
    "json"
   ]
  }
 ],
 "metadata": {
  "kernelspec": {
   "display_name": ".myenv",
   "language": "python",
   "name": "python3"
  },
  "language_info": {
   "codemirror_mode": {
    "name": "ipython",
    "version": 3
   },
   "file_extension": ".py",
   "mimetype": "text/x-python",
   "name": "python",
   "nbconvert_exporter": "python",
   "pygments_lexer": "ipython3",
   "version": "3.13.7"
  }
 },
 "nbformat": 4,
 "nbformat_minor": 5
}
